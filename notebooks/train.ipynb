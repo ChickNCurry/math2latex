{
 "cells": [
  {
   "cell_type": "code",
   "execution_count": 1,
   "id": "4649dd68",
   "metadata": {},
   "outputs": [],
   "source": [
    "import torch_directml\n",
    "from math2latex.dataset import LatexEquationDataset\n",
    "from math2latex.model import Model\n",
    "from math2latex.training import train\n",
    "import torch"
   ]
  },
  {
   "cell_type": "code",
   "execution_count": 2,
   "id": "d329f4c6",
   "metadata": {},
   "outputs": [
    {
     "name": "stdout",
     "output_type": "stream",
     "text": [
      "privateuseone:0\n"
     ]
    }
   ],
   "source": [
    "device = torch.device(torch_directml.device())\n",
    "# device = torch.device(\"cpu\")\n",
    "print(device)"
   ]
  },
  {
   "cell_type": "code",
   "execution_count": 3,
   "id": "0e09350e",
   "metadata": {},
   "outputs": [
    {
     "name": "stderr",
     "output_type": "stream",
     "text": [
      "Dropped Escape call with ulEscapeCode : 0x03007703\n"
     ]
    }
   ],
   "source": [
    "dataset = LatexEquationDataset()\n",
    "dataloader = dataset.get_dataloader(batch_size=8)\n",
    "model = Model(dataset.vocab_size).to(device)"
   ]
  },
  {
   "cell_type": "code",
   "execution_count": null,
   "id": "13fb149a",
   "metadata": {},
   "outputs": [],
   "source": [
    "train(device, model, dataloader, num_epochs=1)"
   ]
  },
  {
   "cell_type": "code",
   "execution_count": 4,
   "id": "5b4a5882",
   "metadata": {},
   "outputs": [],
   "source": [
    "torch.save(model.state_dict(), \"model.pth\")"
   ]
  }
 ],
 "metadata": {
  "kernelspec": {
   "display_name": ".venv",
   "language": "python",
   "name": "python3"
  },
  "language_info": {
   "codemirror_mode": {
    "name": "ipython",
    "version": 3
   },
   "file_extension": ".py",
   "mimetype": "text/x-python",
   "name": "python",
   "nbconvert_exporter": "python",
   "pygments_lexer": "ipython3",
   "version": "3.11.5"
  }
 },
 "nbformat": 4,
 "nbformat_minor": 5
}
