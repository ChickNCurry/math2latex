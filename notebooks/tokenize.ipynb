{
 "cells": [
  {
   "cell_type": "code",
   "execution_count": null,
   "id": "4649dd68",
   "metadata": {},
   "outputs": [],
   "source": [
    "import torch_directml\n",
    "from tokenizers import Tokenizer\n",
    "from tokenizers.normalizers import Sequence, Strip\n",
    "from datasets import load_dataset\n",
    "from tokenizers.models import BPE\n",
    "from tokenizers.trainers import BpeTrainer\n",
    "from tokenizers.pre_tokenizers import ByteLevel"
   ]
  },
  {
   "cell_type": "code",
   "execution_count": 2,
   "id": "d329f4c6",
   "metadata": {},
   "outputs": [
    {
     "name": "stdout",
     "output_type": "stream",
     "text": [
      "privateuseone:0\n"
     ]
    }
   ],
   "source": [
    "device = torch_directml.device()\n",
    "# device = torch.device(\"cpu\")\n",
    "print(device)"
   ]
  },
  {
   "cell_type": "code",
   "execution_count": 3,
   "id": "0e09350e",
   "metadata": {},
   "outputs": [],
   "source": [
    "dataset = load_dataset(\"OleehyO/latex-formulas\", \"cleaned_formulas\")[\"train\"]  # type: ignore"
   ]
  },
  {
   "cell_type": "code",
   "execution_count": 4,
   "id": "4d43d555",
   "metadata": {},
   "outputs": [
    {
     "name": "stdout",
     "output_type": "stream",
     "text": [
      "\\begin{align*}-\\div (y^{1-2m}\\nabla w)=0\\mbox{in}\\mathbb R^n\\times\\mathbb R_+;w\\big|_{y=0}=|u|\\end{align*}\n"
     ]
    }
   ],
   "source": [
    "formulas = [x[\"latex_formula\"] for x in dataset]  # type: ignore\n",
    "print(formulas[0])"
   ]
  },
  {
   "cell_type": "code",
   "execution_count": 7,
   "id": "ebd58a8b",
   "metadata": {},
   "outputs": [],
   "source": [
    "tokenizer = Tokenizer(BPE(unk_token=\"<unk>\"))\n",
    "\n",
    "trainer = BpeTrainer(\n",
    "    vocab_size=8000,  # type: ignore\n",
    "    special_tokens=[\"<pad>\", \"<sos>\", \"<eos>\", \"<unk>\"],  # type: ignore\n",
    ")\n",
    "\n",
    "tokenizer.pre_tokenizer = ByteLevel()  # type: ignore\n",
    "tokenizer.normalizer = Sequence([Strip()])  # type: ignore\n",
    "# tokenizer.post_processor = TemplateProcessing(  # type: ignore\n",
    "#     single=\"<sos> $A <eos>\",\n",
    "#     pair=\"<sos> $A <eos> <sos> $B <eos>\",\n",
    "#     special_tokens=[\n",
    "#         (\"<sos>\", tokenizer.token_to_id(\"<sos>\")),\n",
    "#         (\"<eos>\", tokenizer.token_to_id(\"<eos>\")),\n",
    "#     ],\n",
    "# )"
   ]
  },
  {
   "cell_type": "code",
   "execution_count": 8,
   "id": "9fdf3f8a",
   "metadata": {},
   "outputs": [
    {
     "name": "stdout",
     "output_type": "stream",
     "text": [
      "\n",
      "\n",
      "\n"
     ]
    }
   ],
   "source": [
    "tokenizer.train_from_iterator(formulas, trainer=trainer)\n",
    "tokenizer.save(\"latex-tokenizer.json\")"
   ]
  }
 ],
 "metadata": {
  "kernelspec": {
   "display_name": ".venv",
   "language": "python",
   "name": "python3"
  },
  "language_info": {
   "codemirror_mode": {
    "name": "ipython",
    "version": 3
   },
   "file_extension": ".py",
   "mimetype": "text/x-python",
   "name": "python",
   "nbconvert_exporter": "python",
   "pygments_lexer": "ipython3",
   "version": "3.11.5"
  }
 },
 "nbformat": 4,
 "nbformat_minor": 5
}
